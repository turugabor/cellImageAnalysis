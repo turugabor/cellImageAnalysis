{
 "cells": [
  {
   "cell_type": "code",
   "execution_count": null,
   "id": "47ab86dc",
   "metadata": {},
   "outputs": [],
   "source": [
    "from Image import cellImageAnalysis as ca\n",
    "import matplotlib.pyplot as plt"
   ]
  },
  {
   "cell_type": "code",
   "execution_count": null,
   "id": "e063ba41",
   "metadata": {},
   "outputs": [],
   "source": [
    "path=\"/home/balint/ora/cellImageAnalysis/data/ 2022.01.15/\"\n",
    "img=ca.XpressImage(path, name='20230309 endogenHTSF1 tobb mRFP_A04_s45')\n",
    "\n",
    "img.load_image()\n",
    "img.display_image()"
   ]
  },
  {
   "cell_type": "code",
   "execution_count": null,
   "id": "73e857a9",
   "metadata": {},
   "outputs": [],
   "source": [
    "img.channel_names"
   ]
  },
  {
   "cell_type": "code",
   "execution_count": null,
   "id": "216d8ba1",
   "metadata": {},
   "outputs": [],
   "source": [
    "img.imfiles"
   ]
  },
  {
   "cell_type": "code",
   "execution_count": null,
   "id": "a6562d64",
   "metadata": {},
   "outputs": [],
   "source": [
    "path=\"/home/balint/ora/cellImageAnalysis/data/JNK1B1_barr2_1.tif\"\n",
    "img2=ca.Image(path, ['1','2'])\n",
    "\n",
    "img2.load_image()\n",
    "img2.display_image()"
   ]
  },
  {
   "cell_type": "code",
   "execution_count": null,
   "id": "992ebf3d",
   "metadata": {},
   "outputs": [],
   "source": [
    "detector = ca.Detector(cell_channel=0, nucleus_channel=1)\n",
    "\n",
    "#detector.detect_cells(img2)\n",
    "detector.detect_nuclei(img2)"
   ]
  },
  {
   "cell_type": "code",
   "execution_count": null,
   "id": "2927d7eb",
   "metadata": {},
   "outputs": [],
   "source": [
    "detector.detect_cell_borders(img2)"
   ]
  },
  {
   "cell_type": "code",
   "execution_count": null,
   "id": "c705557e",
   "metadata": {},
   "outputs": [],
   "source": [
    "plt.imshow(img2.nucleus_labels)"
   ]
  },
  {
   "cell_type": "code",
   "execution_count": null,
   "id": "cdb24129",
   "metadata": {},
   "outputs": [],
   "source": [
    "plt.imshow(img2.cell_borders*100+img2.nucleus_labels)"
   ]
  },
  {
   "cell_type": "code",
   "execution_count": null,
   "id": "c38bf9e5",
   "metadata": {},
   "outputs": [],
   "source": []
  }
 ],
 "metadata": {
  "kernelspec": {
   "display_name": "Python 3 (ipykernel)",
   "language": "python",
   "name": "python3"
  },
  "language_info": {
   "codemirror_mode": {
    "name": "ipython",
    "version": 3
   },
   "file_extension": ".py",
   "mimetype": "text/x-python",
   "name": "python",
   "nbconvert_exporter": "python",
   "pygments_lexer": "ipython3",
   "version": "3.10.6"
  }
 },
 "nbformat": 4,
 "nbformat_minor": 5
}
