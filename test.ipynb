{
 "cells": [
  {
   "cell_type": "code",
   "execution_count": null,
   "id": "7ff10908",
   "metadata": {},
   "outputs": [],
   "source": [
    "from Classes import cellImageAnalysis as ca\n",
    "import matplotlib.pyplot as plt\n",
    "from skimage import io"
   ]
  },
  {
   "cell_type": "code",
   "execution_count": null,
   "id": "6644feb8",
   "metadata": {},
   "outputs": [],
   "source": [
    "img = ca.Image(\"data/single/JNK1B2_1.tif\", [\"Nuclei\", \"Plasma\"])"
   ]
  },
  {
   "cell_type": "code",
   "execution_count": null,
   "id": "0a5cf165",
   "metadata": {},
   "outputs": [],
   "source": [
    "img.load_image()\n",
    "img.display_image()"
   ]
  },
  {
   "cell_type": "code",
   "execution_count": null,
   "id": "f8528ec0",
   "metadata": {},
   "outputs": [],
   "source": [
    "detector = ca.Detector(cell_channel=0)"
   ]
  },
  {
   "cell_type": "code",
   "execution_count": null,
   "id": "4d3da6a3",
   "metadata": {},
   "outputs": [],
   "source": [
    "labels = detector.detect_cells(img.image)"
   ]
  },
  {
   "cell_type": "code",
   "execution_count": null,
   "id": "f1b82657",
   "metadata": {},
   "outputs": [],
   "source": [
    "plt.imshow(labels==20)"
   ]
  },
  {
   "cell_type": "code",
   "execution_count": null,
   "id": "49945543",
   "metadata": {},
   "outputs": [],
   "source": [
    "class Animal:\n",
    "    \n",
    "    def __init__(self, birth_date):\n",
    "        self.birth_date = birth_date\n",
    "        self.position = 0\n",
    "        \n",
    "    def get_age(self):\n",
    "        return 10\n",
    "    \n",
    "    def move(self):\n",
    "        self.position += 1"
   ]
  },
  {
   "cell_type": "code",
   "execution_count": null,
   "id": "cbc1cade",
   "metadata": {},
   "outputs": [],
   "source": [
    "class Cow(Animal):\n",
    "    \n",
    "    def __init__(self, birth_date, milk=None):\n",
    "        super().__init__(birth_date)\n",
    "    \n",
    "    def moo(self):\n",
    "        print(\"Moooooo\")\n",
    "        \n",
    "    def get_age(self):\n",
    "        return 3"
   ]
  },
  {
   "cell_type": "code",
   "execution_count": null,
   "id": "7f494756",
   "metadata": {},
   "outputs": [],
   "source": []
  }
 ],
 "metadata": {
  "kernelspec": {
   "display_name": "Python 3 (ipykernel)",
   "language": "python",
   "name": "python3"
  },
  "language_info": {
   "codemirror_mode": {
    "name": "ipython",
    "version": 3
   },
   "file_extension": ".py",
   "mimetype": "text/x-python",
   "name": "python",
   "nbconvert_exporter": "python",
   "pygments_lexer": "ipython3",
   "version": "3.11.2"
  },
  "varInspector": {
   "cols": {
    "lenName": 16,
    "lenType": 16,
    "lenVar": 40
   },
   "kernels_config": {
    "python": {
     "delete_cmd_postfix": "",
     "delete_cmd_prefix": "del ",
     "library": "var_list.py",
     "varRefreshCmd": "print(var_dic_list())"
    },
    "r": {
     "delete_cmd_postfix": ") ",
     "delete_cmd_prefix": "rm(",
     "library": "var_list.r",
     "varRefreshCmd": "cat(var_dic_list()) "
    }
   },
   "types_to_exclude": [
    "module",
    "function",
    "builtin_function_or_method",
    "instance",
    "_Feature"
   ],
   "window_display": false
  }
 },
 "nbformat": 4,
 "nbformat_minor": 5
}
