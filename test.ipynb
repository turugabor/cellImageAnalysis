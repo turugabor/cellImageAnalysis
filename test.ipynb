{
 "cells": [
  {
   "cell_type": "code",
   "execution_count": null,
   "id": "7ff10908",
   "metadata": {},
   "outputs": [],
   "source": [
    "from Image import cellImageAnalysis as ca\n",
    "import matplotlib.pyplot as plt\n",
    "import os"
   ]
  },
  {
   "cell_type": "code",
   "execution_count": null,
   "id": "8854df50",
   "metadata": {},
   "outputs": [],
   "source": [
    "imS45 = ca.XpressImage('./data/2022.01.15/', 's45')\n",
    "imS47 = ca.XpressImage('./data/2022.01.15/', 's47')"
   ]
  },
  {
   "cell_type": "code",
   "execution_count": null,
   "id": "b0b636aa",
   "metadata": {},
   "outputs": [],
   "source": [
    "imS45.display_image()"
   ]
  },
  {
   "cell_type": "code",
   "execution_count": null,
   "id": "b86dd6cf",
   "metadata": {},
   "outputs": [],
   "source": []
  },
  {
   "cell_type": "code",
   "execution_count": null,
   "id": "748abd51",
   "metadata": {},
   "outputs": [],
   "source": []
  },
  {
   "cell_type": "code",
   "execution_count": null,
   "id": "9e0c1377",
   "metadata": {},
   "outputs": [],
   "source": [
    "img = ca.Image('./data/JNK2A1_barr2_1.tif')"
   ]
  },
  {
   "cell_type": "code",
   "execution_count": null,
   "id": "0a5cf165",
   "metadata": {},
   "outputs": [],
   "source": [
    "img.load_image()\n",
    "img.display_image()"
   ]
  },
  {
   "cell_type": "code",
   "execution_count": null,
   "id": "0814ad19",
   "metadata": {},
   "outputs": [],
   "source": []
  },
  {
   "cell_type": "code",
   "execution_count": null,
   "id": "7b7461a0",
   "metadata": {},
   "outputs": [],
   "source": []
  },
  {
   "cell_type": "code",
   "execution_count": null,
   "id": "49945543",
   "metadata": {},
   "outputs": [],
   "source": [
    "class Animal:\n",
    "    \n",
    "    def __init__(self, birth_date):\n",
    "        self.birth_date = birth_date\n",
    "        self.position = 0\n",
    "        \n",
    "    def get_age(self):\n",
    "        return 10\n",
    "    \n",
    "    def move(self):\n",
    "        self.position += 1"
   ]
  },
  {
   "cell_type": "code",
   "execution_count": null,
   "id": "cbc1cade",
   "metadata": {},
   "outputs": [],
   "source": [
    "class Cow(Animal):\n",
    "    \n",
    "    def __init__(self, birth_date, milk=None):\n",
    "        super().__init__(birth_date)\n",
    "    \n",
    "    def moo(self):\n",
    "        print(\"Moooooo\")\n",
    "        \n",
    "    def get_age(self):\n",
    "        return 3"
   ]
  },
  {
   "cell_type": "code",
   "execution_count": null,
   "id": "3ef91ff8",
   "metadata": {},
   "outputs": [],
   "source": [
    "buksi = Animal(\"jun 12.\")"
   ]
  },
  {
   "cell_type": "code",
   "execution_count": null,
   "id": "fb01610b",
   "metadata": {},
   "outputs": [],
   "source": [
    "buksi.move()"
   ]
  },
  {
   "cell_type": "code",
   "execution_count": null,
   "id": "5712d2a3",
   "metadata": {},
   "outputs": [],
   "source": [
    "buksi.position"
   ]
  },
  {
   "cell_type": "code",
   "execution_count": null,
   "id": "907f7c81",
   "metadata": {},
   "outputs": [],
   "source": [
    "bobe = Cow(\"2010 jan 10\", True)"
   ]
  },
  {
   "cell_type": "code",
   "execution_count": null,
   "id": "a32470f9",
   "metadata": {},
   "outputs": [],
   "source": [
    "bobe.move()"
   ]
  },
  {
   "cell_type": "code",
   "execution_count": null,
   "id": "03a74300",
   "metadata": {},
   "outputs": [],
   "source": [
    "bobe.position"
   ]
  },
  {
   "cell_type": "code",
   "execution_count": null,
   "id": "a0eb74e3",
   "metadata": {},
   "outputs": [],
   "source": [
    "bobe.moo()"
   ]
  },
  {
   "cell_type": "code",
   "execution_count": null,
   "id": "8f086909",
   "metadata": {},
   "outputs": [],
   "source": [
    "buksi.get_age()"
   ]
  },
  {
   "cell_type": "code",
   "execution_count": null,
   "id": "a4e052f3",
   "metadata": {},
   "outputs": [],
   "source": [
    "bobe.get_age()"
   ]
  },
  {
   "cell_type": "code",
   "execution_count": null,
   "id": "764184bb",
   "metadata": {},
   "outputs": [],
   "source": []
  },
  {
   "cell_type": "code",
   "execution_count": null,
   "id": "a44042e9",
   "metadata": {},
   "outputs": [],
   "source": []
  },
  {
   "cell_type": "code",
   "execution_count": null,
   "id": "d8ffb685",
   "metadata": {},
   "outputs": [],
   "source": []
  }
 ],
 "metadata": {
  "kernelspec": {
   "display_name": "Python 3 (ipykernel)",
   "language": "python",
   "name": "python3"
  },
  "language_info": {
   "codemirror_mode": {
    "name": "ipython",
    "version": 3
   },
   "file_extension": ".py",
   "mimetype": "text/x-python",
   "name": "python",
   "nbconvert_exporter": "python",
   "pygments_lexer": "ipython3",
   "version": "3.11.2"
  },
  "varInspector": {
   "cols": {
    "lenName": 16,
    "lenType": 16,
    "lenVar": 40
   },
   "kernels_config": {
    "python": {
     "delete_cmd_postfix": "",
     "delete_cmd_prefix": "del ",
     "library": "var_list.py",
     "varRefreshCmd": "print(var_dic_list())"
    },
    "r": {
     "delete_cmd_postfix": ") ",
     "delete_cmd_prefix": "rm(",
     "library": "var_list.r",
     "varRefreshCmd": "cat(var_dic_list()) "
    }
   },
   "types_to_exclude": [
    "module",
    "function",
    "builtin_function_or_method",
    "instance",
    "_Feature"
   ],
   "window_display": false
  }
 },
 "nbformat": 4,
 "nbformat_minor": 5
}
