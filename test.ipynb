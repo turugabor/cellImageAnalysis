{
 "cells": [
  {
   "cell_type": "markdown",
   "id": "506ab633",
   "metadata": {},
   "source": [
    "# 2 csatornás képek"
   ]
  },
  {
   "cell_type": "code",
   "execution_count": null,
   "id": "7f494756",
   "metadata": {},
   "outputs": [],
   "source": [
    "#2 csatornás kép betöltése\n",
    "\n",
    "import matplotlib.pyplot as plt\n",
    "from skimage import io\n",
    "import numpy as np\n",
    "\n",
    "\n",
    "#load\n",
    "path=\"data/single/JNK1B2_1.tif\"\n",
    "img = io.imread(path)\n",
    "#load részeként: ellenőrzi, hogy a channelek milyen sorrendben vannak, és rendezi\n",
    "if img.shape[0] <6:\n",
    "    img = np.swapaxes(img, 0, 2)\n",
    "    img = np.swapaxes(img, 0, 1)\n",
    "if img.shape[1] <6:\n",
    "    img = np.swapaxes(img, 1, 2)\n",
    "\n",
    "\n",
    "#print\n",
    "channels=img.shape[-1]\n",
    "\n",
    "for i in range(channels):\n",
    "    plt.subplot(1, channels, i+1)\n",
    "    plt.imshow(img[:,:,i], cmap=\"gray\") \n",
    "    plt.axis(\"off\")\n",
    "    \n",
    "    \n",
    "print(img.shape)"
   ]
  },
  {
   "cell_type": "code",
   "execution_count": null,
   "id": "7ff10908",
   "metadata": {},
   "outputs": [],
   "source": [
    "#2 csatornás kép betöltése class segítségével 2 képre\n",
    "\n",
    "from Classes import cellImageAnalysis as ca\n",
    "import matplotlib.pyplot as plt\n",
    "from skimage import io\n",
    "\n",
    "img = ca.Image(\"data/single/JNK1B2_1.tif\")\n",
    "img.load_image()\n",
    "img.display_image()"
   ]
  },
  {
   "cell_type": "markdown",
   "id": "7434612b",
   "metadata": {},
   "source": [
    "# sejtkontúrok"
   ]
  },
  {
   "cell_type": "code",
   "execution_count": null,
   "id": "01c8d93f",
   "metadata": {},
   "outputs": [],
   "source": [
    "#példa a sejtek kontúrjának megtalálásához\n",
    "\n",
    "import matplotlib.pyplot as plt\n",
    "from skimage import io\n",
    "import numpy as np\n",
    "from Classes import cellImageAnalysis as ca\n",
    "from skimage.morphology import erosion\n",
    "from skimage.morphology import disk  # szükséges az erosion mértékéhez\n",
    "\n",
    "path=\"data/single/JNK1B2_1.tif\"\n",
    "\n",
    "img = ca.Image(path)\n",
    "img.load_image()\n",
    "detector = ca.Detector(cell_channel=0)\n",
    "labels = detector.detect_cells(img.image)\n",
    "\n",
    "footprint = disk(5)\n",
    "#footprint számadat megadja a membrán vastagságát\n",
    "\n",
    "cellb=[[]]\n",
    "#betesszük egy listába az adott sejtet\n",
    "#kivonjuk belőle az erodált mását (true-fals miatt boolean operátor!)\n",
    "\n",
    "for i in range(labels.max()):\n",
    "    cellb[i]=labels==i\n",
    "    cellb[i]= cellb[i]^erosion(labels==i,footprint)\n",
    "    break\n",
    "\n",
    "#a listákat numpy array-é alakítjuk\n",
    "#shape varázslás\n",
    "cellb=np.array(cellb)\n",
    "cellb = np.swapaxes(cellb, 0, 2)\n",
    "cellb = np.swapaxes(cellb, 0, 1)\n",
    "\n",
    "#kirajzolás\n",
    "plt.axis(\"off\")\n",
    "plt.imshow(cellb)"
   ]
  },
  {
   "cell_type": "code",
   "execution_count": null,
   "id": "f8e5f0be",
   "metadata": {},
   "outputs": [],
   "source": [
    "#a probálkozások során kellett\n",
    "#probléma vizualizálása a szétbontott sejtek kontúrjának megalkotása előtt\n",
    "\n",
    "from Classes import cellImageAnalysis as ca\n",
    "import matplotlib.pyplot as plt\n",
    "\n",
    "path=\"data/single/JNK1B2_1.tif\"\n",
    "\n",
    "img = ca.Image(path)\n",
    "img.load_image()\n",
    "detector = ca.Detector(cell_channel=0)\n",
    "labels = detector.detect_cells(img.image)\n",
    "\n",
    "\n",
    "for i in range(labels.max()):\n",
    "    plt.rcParams['figure.figsize'] = [6,6]\n",
    "    plt.subplot(5, labels.max()-24, i+1)\n",
    "    plt.imshow(labels==i+1)\n",
    "    plt.axis(\"off\")"
   ]
  },
  {
   "cell_type": "markdown",
   "id": "48b5123e",
   "metadata": {},
   "source": [
    "# 3 képből 1"
   ]
  },
  {
   "cell_type": "code",
   "execution_count": null,
   "id": "d5c7bc82",
   "metadata": {},
   "outputs": [],
   "source": [
    "#3 képből egy\n",
    "\n",
    "from Classes import cellImageAnalysis as ca        \n",
    "     \n",
    "a=ca.XpressImage(\"data/230309\",\"A04_s45\")\n",
    "#a=ca.XpressImage(\"data/230309\",\"A04_s47\")\n",
    "a.load_ximage()\n",
    "a.display_image()\n",
    "#a.display_ximage()"
   ]
  },
  {
   "cell_type": "code",
   "execution_count": null,
   "id": "c379ea05",
   "metadata": {},
   "outputs": [],
   "source": []
  },
  {
   "cell_type": "code",
   "execution_count": null,
   "id": "14fd4ea2",
   "metadata": {},
   "outputs": [],
   "source": []
  },
  {
   "cell_type": "code",
   "execution_count": null,
   "id": "a225bc7c",
   "metadata": {},
   "outputs": [],
   "source": []
  },
  {
   "cell_type": "code",
   "execution_count": null,
   "id": "b13c4f09",
   "metadata": {},
   "outputs": [],
   "source": [
    "#új kezdet\n",
    "#a class alapja, már átírva\n",
    "\n",
    "from os import listdir\n",
    "from os.path import isfile, join\n",
    "import numpy as np\n",
    "from skimage import io\n",
    "import matplotlib.pyplot as plt\n",
    "\n",
    "path=\"data/230309\"\n",
    "place=\"A04_s47\"\n",
    "\n",
    " #leszűrjük, hogy a mappából csak a tif file-okat vizsgáljuk\n",
    "tifs = [f for f in listdir(path) if isfile(join(path, f)) and  f.endswith(\".tif\")]\n",
    "\n",
    "#majd kiválasztjuk belőle a megadott hely alapján a megfelelő fileokat\n",
    "matches = [match for match in tifs if place in match]\n",
    "\n",
    "#teljes elérési utat hozunk létre a fileokhoz, \n",
    "for i in range(len(matches)):\n",
    "    matches[i]=join(path,matches[i])\n",
    "    \n",
    "#img megkapja az elérési utakat, összerakja az array-t\n",
    "img = io.imread_collection(matches)\n",
    "\n",
    "img = (np.stack(img, axis=2))*255/65535\n",
    "\n",
    "\n",
    "#kirajzolás\n",
    "\n",
    "plt.axis(\"off\")\n",
    "plt.imshow(img)\n",
    "\n"
   ]
  },
  {
   "cell_type": "code",
   "execution_count": null,
   "id": "7a926251",
   "metadata": {},
   "outputs": [],
   "source": []
  },
  {
   "cell_type": "markdown",
   "id": "738dbbca",
   "metadata": {},
   "source": [
    "# misc"
   ]
  },
  {
   "cell_type": "code",
   "execution_count": null,
   "id": "dfb250f1",
   "metadata": {},
   "outputs": [],
   "source": [
    "#classok megértéséhez segédlet\n",
    "\n",
    "class Animal:\n",
    "    \n",
    "    def __init__(self, birth_date):\n",
    "        self.birth_date = birth_date\n",
    "        self.position = 0\n",
    "        \n",
    "    def get_age(self):\n",
    "        return 10\n",
    "    \n",
    "    def move(self):\n",
    "        self.position += 1\n",
    "        \n",
    "class Cow(Animal):\n",
    "    \n",
    "    def __init__(self, birth_date, milk=None):\n",
    "        super().__init__(birth_date)\n",
    "    \n",
    "    def moo(self):\n",
    "        print(\"Moooooo\")\n",
    "        \n",
    "    def get_age(self):\n",
    "        return 3"
   ]
  }
 ],
 "metadata": {
  "kernelspec": {
   "display_name": "Python 3 (ipykernel)",
   "language": "python",
   "name": "python3"
  },
  "language_info": {
   "codemirror_mode": {
    "name": "ipython",
    "version": 3
   },
   "file_extension": ".py",
   "mimetype": "text/x-python",
   "name": "python",
   "nbconvert_exporter": "python",
   "pygments_lexer": "ipython3",
   "version": "3.11.2"
  },
  "varInspector": {
   "cols": {
    "lenName": 16,
    "lenType": 16,
    "lenVar": 40
   },
   "kernels_config": {
    "python": {
     "delete_cmd_postfix": "",
     "delete_cmd_prefix": "del ",
     "library": "var_list.py",
     "varRefreshCmd": "print(var_dic_list())"
    },
    "r": {
     "delete_cmd_postfix": ") ",
     "delete_cmd_prefix": "rm(",
     "library": "var_list.r",
     "varRefreshCmd": "cat(var_dic_list()) "
    }
   },
   "types_to_exclude": [
    "module",
    "function",
    "builtin_function_or_method",
    "instance",
    "_Feature"
   ],
   "window_display": false
  }
 },
 "nbformat": 4,
 "nbformat_minor": 5
}
