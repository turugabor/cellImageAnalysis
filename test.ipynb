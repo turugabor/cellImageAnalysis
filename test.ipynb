{
 "cells": [
  {
   "cell_type": "code",
   "execution_count": null,
   "id": "7f494756",
   "metadata": {},
   "outputs": [],
   "source": [
    "import matplotlib.pyplot as plt\n",
    "from skimage import io\n",
    "import numpy as np\n",
    "\n",
    "\n",
    "\n",
    "#load\n",
    "path=\"data/single/JNK1B2_1.tif\"\n",
    "img = io.imread(path)\n",
    "img = np.swapaxes(img, 0, 2)\n",
    "img = np.swapaxes(img, 0, 1)\n",
    "\n",
    "#print\n",
    "channels=img.shape[-1]\n",
    "\n",
    "for i in range(channels):\n",
    "    plt.subplot(1, channels, i+1)\n",
    "    plt.imshow(img[:,:,i], cmap=\"gray\") \n",
    "    plt.axis(\"off\")"
   ]
  },
  {
   "cell_type": "code",
   "execution_count": null,
   "id": "7ff10908",
   "metadata": {},
   "outputs": [],
   "source": [
    "from Classes import cellImageAnalysis as ca\n",
    "import matplotlib.pyplot as plt\n",
    "from skimage import io\n",
    "\n",
    "img = ca.Image(\"data/single/JNK1B2_1.tif\", [\"Nuclei\", \"Plasma\"])\n",
    "img.load_image()\n",
    "img.display_image()"
   ]
  },
  {
   "cell_type": "code",
   "execution_count": null,
   "id": "deb3efe3",
   "metadata": {},
   "outputs": [],
   "source": [
    "#a kép-betöltő feladat class nélkül\n",
    "#szükséges sallang\n",
    "from os import listdir\n",
    "from os.path import isfile, join\n",
    "\n",
    "#változók\n",
    "path = \"data/230309\"\n",
    "place=\"A04_s45\"\n",
    "\n",
    "#leszűrjük, hogy a mappából csak a tif file-okat vizsgáljuk\n",
    "tifs = [f for f in listdir(path) if isfile(join(path, f)) and  f.endswith(\".tif\")]\n",
    "#majd kiválasztjuk belőle a megadott hely alapján a megfelelő fileokat\n",
    "matches = [match for match in tifs if place in match]\n",
    "\n",
    "#teljes elérési utat hozunk létre a fileokhoz, \n",
    "for i in range(len(matches)):\n",
    "    matches[i]=join(path,matches[i])\n",
    "    \n",
    "#létrehozunk egy img arrayt, majd egyesével hozzáadjuk a külön képeket\n",
    "img=np.array(0)\n",
    "for i in matches:\n",
    "    img=img+io.imread(i)-io.imread(i).min() #mindenhonnan levonjuk a hátteret egyesével, mivel a külön képeken eltérhet\n",
    "\n",
    "    \n",
    "#print\n",
    "plt.axis(\"off\")\n",
    "plt.imshow(img)"
   ]
  },
  {
   "cell_type": "code",
   "execution_count": null,
   "id": "d5c7bc82",
   "metadata": {},
   "outputs": [],
   "source": [
    "from Classes import cellImageAnalysis as ca        \n",
    "     \n",
    "a=ca.XpressImage(\"data/230309\",\"A04_s45\")\n",
    "a.load_ximage()\n",
    "a.display_ximage()"
   ]
  },
  {
   "cell_type": "code",
   "execution_count": null,
   "id": "dfb250f1",
   "metadata": {},
   "outputs": [],
   "source": [
    "#classok megértéséhez segédlet\n",
    "\n",
    "class Animal:\n",
    "    \n",
    "    def __init__(self, birth_date):\n",
    "        self.birth_date = birth_date\n",
    "        self.position = 0\n",
    "        \n",
    "    def get_age(self):\n",
    "        return 10\n",
    "    \n",
    "    def move(self):\n",
    "        self.position += 1\n",
    "        \n",
    "class Cow(Animal):\n",
    "    \n",
    "    def __init__(self, birth_date, milk=None):\n",
    "        super().__init__(birth_date)\n",
    "    \n",
    "    def moo(self):\n",
    "        print(\"Moooooo\")\n",
    "        \n",
    "    def get_age(self):\n",
    "        return 3"
   ]
  }
 ],
 "metadata": {
  "kernelspec": {
   "display_name": "Python 3 (ipykernel)",
   "language": "python",
   "name": "python3"
  },
  "language_info": {
   "codemirror_mode": {
    "name": "ipython",
    "version": 3
   },
   "file_extension": ".py",
   "mimetype": "text/x-python",
   "name": "python",
   "nbconvert_exporter": "python",
   "pygments_lexer": "ipython3",
   "version": "3.11.2"
  },
  "varInspector": {
   "cols": {
    "lenName": 16,
    "lenType": 16,
    "lenVar": 40
   },
   "kernels_config": {
    "python": {
     "delete_cmd_postfix": "",
     "delete_cmd_prefix": "del ",
     "library": "var_list.py",
     "varRefreshCmd": "print(var_dic_list())"
    },
    "r": {
     "delete_cmd_postfix": ") ",
     "delete_cmd_prefix": "rm(",
     "library": "var_list.r",
     "varRefreshCmd": "cat(var_dic_list()) "
    }
   },
   "types_to_exclude": [
    "module",
    "function",
    "builtin_function_or_method",
    "instance",
    "_Feature"
   ],
   "window_display": false
  }
 },
 "nbformat": 4,
 "nbformat_minor": 5
}
